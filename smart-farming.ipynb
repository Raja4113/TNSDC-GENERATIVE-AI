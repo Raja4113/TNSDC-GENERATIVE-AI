{
 "cells": [
  {
   "cell_type": "code",
   "execution_count": 1,
   "id": "90ce538b",
   "metadata": {
    "_cell_guid": "b1076dfc-b9ad-4769-8c92-a6c4dae69d19",
    "_uuid": "8f2839f25d086af736a60e9eeb907d3b93b6e0e5",
    "execution": {
     "iopub.execute_input": "2023-08-16T06:09:00.301481Z",
     "iopub.status.busy": "2023-08-16T06:09:00.300040Z",
     "iopub.status.idle": "2023-08-16T06:09:01.576181Z",
     "shell.execute_reply": "2023-08-16T06:09:01.574581Z"
    },
    "papermill": {
     "duration": 1.291558,
     "end_time": "2023-08-16T06:09:01.578938",
     "exception": false,
     "start_time": "2023-08-16T06:09:00.287380",
     "status": "completed"
    },
    "tags": []
   },
   "outputs": [],
   "source": [
    "import pandas as pd\n",
    "import numpy as np\n",
    "import seaborn as sns\n",
    "from matplotlib import pyplot as plt"
   ]
  },
  {
   "cell_type": "code",
   "execution_count": 2,
   "id": "50657bc3",
   "metadata": {
    "execution": {
     "iopub.execute_input": "2023-08-16T06:09:01.599368Z",
     "iopub.status.busy": "2023-08-16T06:09:01.598973Z",
     "iopub.status.idle": "2023-08-16T06:09:01.632954Z",
     "shell.execute_reply": "2023-08-16T06:09:01.631369Z"
    },
    "papermill": {
     "duration": 0.047433,
     "end_time": "2023-08-16T06:09:01.635904",
     "exception": false,
     "start_time": "2023-08-16T06:09:01.588471",
     "status": "completed"
    },
    "tags": []
   },
   "outputs": [],
   "source": [
    "df = pd.read_csv(\"/kaggle/input/smart-agricultural-production-optimizing-engine/Crop_recommendation.csv\")"
   ]
  },
  {
   "cell_type": "markdown",
   "id": "a39f7ec3",
   "metadata": {
    "papermill": {
     "duration": 0.00885,
     "end_time": "2023-08-16T06:09:01.654223",
     "exception": false,
     "start_time": "2023-08-16T06:09:01.645373",
     "status": "completed"
    },
    "tags": []
   },
   "source": [
    "#Data Analysis"
   ]
  },
  {
   "cell_type": "code",
   "execution_count": 3,
   "id": "d9e63da3",
   "metadata": {
    "execution": {
     "iopub.execute_input": "2023-08-16T06:09:01.675094Z",
     "iopub.status.busy": "2023-08-16T06:09:01.674668Z",
     "iopub.status.idle": "2023-08-16T06:09:01.705005Z",
     "shell.execute_reply": "2023-08-16T06:09:01.703093Z"
    },
    "papermill": {
     "duration": 0.044168,
     "end_time": "2023-08-16T06:09:01.707441",
     "exception": false,
     "start_time": "2023-08-16T06:09:01.663273",
     "status": "completed"
    },
    "tags": []
   },
   "outputs": [
    {
     "data": {
      "text/html": [
       "<div>\n",
       "<style scoped>\n",
       "    .dataframe tbody tr th:only-of-type {\n",
       "        vertical-align: middle;\n",
       "    }\n",
       "\n",
       "    .dataframe tbody tr th {\n",
       "        vertical-align: top;\n",
       "    }\n",
       "\n",
       "    .dataframe thead th {\n",
       "        text-align: right;\n",
       "    }\n",
       "</style>\n",
       "<table border=\"1\" class=\"dataframe\">\n",
       "  <thead>\n",
       "    <tr style=\"text-align: right;\">\n",
       "      <th></th>\n",
       "      <th>N</th>\n",
       "      <th>P</th>\n",
       "      <th>K</th>\n",
       "      <th>temperature</th>\n",
       "      <th>humidity</th>\n",
       "      <th>ph</th>\n",
       "      <th>rainfall</th>\n",
       "      <th>label</th>\n",
       "    </tr>\n",
       "  </thead>\n",
       "  <tbody>\n",
       "    <tr>\n",
       "      <th>0</th>\n",
       "      <td>90</td>\n",
       "      <td>42</td>\n",
       "      <td>43</td>\n",
       "      <td>20.879744</td>\n",
       "      <td>82.002744</td>\n",
       "      <td>6.502985</td>\n",
       "      <td>202.935536</td>\n",
       "      <td>rice</td>\n",
       "    </tr>\n",
       "    <tr>\n",
       "      <th>1</th>\n",
       "      <td>85</td>\n",
       "      <td>58</td>\n",
       "      <td>41</td>\n",
       "      <td>21.770462</td>\n",
       "      <td>80.319644</td>\n",
       "      <td>7.038096</td>\n",
       "      <td>226.655537</td>\n",
       "      <td>rice</td>\n",
       "    </tr>\n",
       "    <tr>\n",
       "      <th>2</th>\n",
       "      <td>60</td>\n",
       "      <td>55</td>\n",
       "      <td>44</td>\n",
       "      <td>23.004459</td>\n",
       "      <td>82.320763</td>\n",
       "      <td>7.840207</td>\n",
       "      <td>263.964248</td>\n",
       "      <td>rice</td>\n",
       "    </tr>\n",
       "    <tr>\n",
       "      <th>3</th>\n",
       "      <td>74</td>\n",
       "      <td>35</td>\n",
       "      <td>40</td>\n",
       "      <td>26.491096</td>\n",
       "      <td>80.158363</td>\n",
       "      <td>6.980401</td>\n",
       "      <td>242.864034</td>\n",
       "      <td>rice</td>\n",
       "    </tr>\n",
       "    <tr>\n",
       "      <th>4</th>\n",
       "      <td>78</td>\n",
       "      <td>42</td>\n",
       "      <td>42</td>\n",
       "      <td>20.130175</td>\n",
       "      <td>81.604873</td>\n",
       "      <td>7.628473</td>\n",
       "      <td>262.717340</td>\n",
       "      <td>rice</td>\n",
       "    </tr>\n",
       "  </tbody>\n",
       "</table>\n",
       "</div>"
      ],
      "text/plain": [
       "    N   P   K  temperature   humidity        ph    rainfall label\n",
       "0  90  42  43    20.879744  82.002744  6.502985  202.935536  rice\n",
       "1  85  58  41    21.770462  80.319644  7.038096  226.655537  rice\n",
       "2  60  55  44    23.004459  82.320763  7.840207  263.964248  rice\n",
       "3  74  35  40    26.491096  80.158363  6.980401  242.864034  rice\n",
       "4  78  42  42    20.130175  81.604873  7.628473  262.717340  rice"
      ]
     },
     "execution_count": 3,
     "metadata": {},
     "output_type": "execute_result"
    }
   ],
   "source": [
    "df.head()"
   ]
  },
  {
   "cell_type": "code",
   "execution_count": 4,
   "id": "b02447bf",
   "metadata": {
    "execution": {
     "iopub.execute_input": "2023-08-16T06:09:01.728989Z",
     "iopub.status.busy": "2023-08-16T06:09:01.728476Z",
     "iopub.status.idle": "2023-08-16T06:09:01.743613Z",
     "shell.execute_reply": "2023-08-16T06:09:01.741772Z"
    },
    "papermill": {
     "duration": 0.029184,
     "end_time": "2023-08-16T06:09:01.746333",
     "exception": false,
     "start_time": "2023-08-16T06:09:01.717149",
     "status": "completed"
    },
    "tags": []
   },
   "outputs": [
    {
     "data": {
      "text/html": [
       "<div>\n",
       "<style scoped>\n",
       "    .dataframe tbody tr th:only-of-type {\n",
       "        vertical-align: middle;\n",
       "    }\n",
       "\n",
       "    .dataframe tbody tr th {\n",
       "        vertical-align: top;\n",
       "    }\n",
       "\n",
       "    .dataframe thead th {\n",
       "        text-align: right;\n",
       "    }\n",
       "</style>\n",
       "<table border=\"1\" class=\"dataframe\">\n",
       "  <thead>\n",
       "    <tr style=\"text-align: right;\">\n",
       "      <th></th>\n",
       "      <th>N</th>\n",
       "      <th>P</th>\n",
       "      <th>K</th>\n",
       "      <th>temperature</th>\n",
       "      <th>humidity</th>\n",
       "      <th>ph</th>\n",
       "      <th>rainfall</th>\n",
       "      <th>label</th>\n",
       "    </tr>\n",
       "  </thead>\n",
       "  <tbody>\n",
       "    <tr>\n",
       "      <th>2195</th>\n",
       "      <td>107</td>\n",
       "      <td>34</td>\n",
       "      <td>32</td>\n",
       "      <td>26.774637</td>\n",
       "      <td>66.413269</td>\n",
       "      <td>6.780064</td>\n",
       "      <td>177.774507</td>\n",
       "      <td>coffee</td>\n",
       "    </tr>\n",
       "    <tr>\n",
       "      <th>2196</th>\n",
       "      <td>99</td>\n",
       "      <td>15</td>\n",
       "      <td>27</td>\n",
       "      <td>27.417112</td>\n",
       "      <td>56.636362</td>\n",
       "      <td>6.086922</td>\n",
       "      <td>127.924610</td>\n",
       "      <td>coffee</td>\n",
       "    </tr>\n",
       "    <tr>\n",
       "      <th>2197</th>\n",
       "      <td>118</td>\n",
       "      <td>33</td>\n",
       "      <td>30</td>\n",
       "      <td>24.131797</td>\n",
       "      <td>67.225123</td>\n",
       "      <td>6.362608</td>\n",
       "      <td>173.322839</td>\n",
       "      <td>coffee</td>\n",
       "    </tr>\n",
       "    <tr>\n",
       "      <th>2198</th>\n",
       "      <td>117</td>\n",
       "      <td>32</td>\n",
       "      <td>34</td>\n",
       "      <td>26.272418</td>\n",
       "      <td>52.127394</td>\n",
       "      <td>6.758793</td>\n",
       "      <td>127.175293</td>\n",
       "      <td>coffee</td>\n",
       "    </tr>\n",
       "    <tr>\n",
       "      <th>2199</th>\n",
       "      <td>104</td>\n",
       "      <td>18</td>\n",
       "      <td>30</td>\n",
       "      <td>23.603016</td>\n",
       "      <td>60.396475</td>\n",
       "      <td>6.779833</td>\n",
       "      <td>140.937041</td>\n",
       "      <td>coffee</td>\n",
       "    </tr>\n",
       "  </tbody>\n",
       "</table>\n",
       "</div>"
      ],
      "text/plain": [
       "        N   P   K  temperature   humidity        ph    rainfall   label\n",
       "2195  107  34  32    26.774637  66.413269  6.780064  177.774507  coffee\n",
       "2196   99  15  27    27.417112  56.636362  6.086922  127.924610  coffee\n",
       "2197  118  33  30    24.131797  67.225123  6.362608  173.322839  coffee\n",
       "2198  117  32  34    26.272418  52.127394  6.758793  127.175293  coffee\n",
       "2199  104  18  30    23.603016  60.396475  6.779833  140.937041  coffee"
      ]
     },
     "execution_count": 4,
     "metadata": {},
     "output_type": "execute_result"
    }
   ],
   "source": [
    "df.tail()"
   ]
  },
  {
   "cell_type": "code",
   "execution_count": 5,
   "id": "68ce1cb8",
   "metadata": {
    "execution": {
     "iopub.execute_input": "2023-08-16T06:09:01.768177Z",
     "iopub.status.busy": "2023-08-16T06:09:01.767835Z",
     "iopub.status.idle": "2023-08-16T06:09:01.797044Z",
     "shell.execute_reply": "2023-08-16T06:09:01.794809Z"
    },
    "papermill": {
     "duration": 0.044003,
     "end_time": "2023-08-16T06:09:01.800408",
     "exception": false,
     "start_time": "2023-08-16T06:09:01.756405",
     "status": "completed"
    },
    "tags": []
   },
   "outputs": [
    {
     "name": "stdout",
     "output_type": "stream",
     "text": [
      "<class 'pandas.core.frame.DataFrame'>\n",
      "RangeIndex: 2200 entries, 0 to 2199\n",
      "Data columns (total 8 columns):\n",
      " #   Column       Non-Null Count  Dtype  \n",
      "---  ------       --------------  -----  \n",
      " 0   N            2200 non-null   int64  \n",
      " 1   P            2200 non-null   int64  \n",
      " 2   K            2200 non-null   int64  \n",
      " 3   temperature  2200 non-null   float64\n",
      " 4   humidity     2200 non-null   float64\n",
      " 5   ph           2200 non-null   float64\n",
      " 6   rainfall     2200 non-null   float64\n",
      " 7   label        2200 non-null   object \n",
      "dtypes: float64(4), int64(3), object(1)\n",
      "memory usage: 137.6+ KB\n"
     ]
    }
   ],
   "source": [
    "df.info()"
   ]
  },
  {
   "cell_type": "code",
   "execution_count": 6,
   "id": "2f5b1c84",
   "metadata": {
    "execution": {
     "iopub.execute_input": "2023-08-16T06:09:01.822567Z",
     "iopub.status.busy": "2023-08-16T06:09:01.822234Z",
     "iopub.status.idle": "2023-08-16T06:09:01.830392Z",
     "shell.execute_reply": "2023-08-16T06:09:01.828208Z"
    },
    "papermill": {
     "duration": 0.022814,
     "end_time": "2023-08-16T06:09:01.833521",
     "exception": false,
     "start_time": "2023-08-16T06:09:01.810707",
     "status": "completed"
    },
    "tags": []
   },
   "outputs": [
    {
     "data": {
      "text/plain": [
       "(2200, 8)"
      ]
     },
     "execution_count": 6,
     "metadata": {},
     "output_type": "execute_result"
    }
   ],
   "source": [
    "df.shape"
   ]
  },
  {
   "cell_type": "code",
   "execution_count": 7,
   "id": "18808694",
   "metadata": {
    "execution": {
     "iopub.execute_input": "2023-08-16T06:09:01.855456Z",
     "iopub.status.busy": "2023-08-16T06:09:01.855126Z",
     "iopub.status.idle": "2023-08-16T06:09:01.862406Z",
     "shell.execute_reply": "2023-08-16T06:09:01.860807Z"
    },
    "papermill": {
     "duration": 0.021528,
     "end_time": "2023-08-16T06:09:01.865153",
     "exception": false,
     "start_time": "2023-08-16T06:09:01.843625",
     "status": "completed"
    },
    "tags": []
   },
   "outputs": [
    {
     "data": {
      "text/plain": [
       "17600"
      ]
     },
     "execution_count": 7,
     "metadata": {},
     "output_type": "execute_result"
    }
   ],
   "source": [
    "df.size"
   ]
  },
  {
   "cell_type": "code",
   "execution_count": 8,
   "id": "157122f3",
   "metadata": {
    "execution": {
     "iopub.execute_input": "2023-08-16T06:09:01.887312Z",
     "iopub.status.busy": "2023-08-16T06:09:01.886955Z",
     "iopub.status.idle": "2023-08-16T06:09:01.894560Z",
     "shell.execute_reply": "2023-08-16T06:09:01.893250Z"
    },
    "papermill": {
     "duration": 0.021299,
     "end_time": "2023-08-16T06:09:01.896806",
     "exception": false,
     "start_time": "2023-08-16T06:09:01.875507",
     "status": "completed"
    },
    "tags": []
   },
   "outputs": [
    {
     "data": {
      "text/plain": [
       "Index(['N', 'P', 'K', 'temperature', 'humidity', 'ph', 'rainfall', 'label'], dtype='object')"
      ]
     },
     "execution_count": 8,
     "metadata": {},
     "output_type": "execute_result"
    }
   ],
   "source": [
    "df.columns"
   ]
  },
  {
   "cell_type": "code",
   "execution_count": 9,
   "id": "6d73fdb9",
   "metadata": {
    "execution": {
     "iopub.execute_input": "2023-08-16T06:09:01.918923Z",
     "iopub.status.busy": "2023-08-16T06:09:01.918475Z",
     "iopub.status.idle": "2023-08-16T06:09:01.926095Z",
     "shell.execute_reply": "2023-08-16T06:09:01.925055Z"
    },
    "papermill": {
     "duration": 0.020861,
     "end_time": "2023-08-16T06:09:01.928006",
     "exception": false,
     "start_time": "2023-08-16T06:09:01.907145",
     "status": "completed"
    },
    "tags": []
   },
   "outputs": [
    {
     "data": {
      "text/plain": [
       "array(['rice', 'maize', 'chickpea', 'kidneybeans', 'pigeonpeas',\n",
       "       'mothbeans', 'mungbean', 'blackgram', 'lentil', 'pomegranate',\n",
       "       'banana', 'mango', 'grapes', 'watermelon', 'muskmelon', 'apple',\n",
       "       'orange', 'papaya', 'coconut', 'cotton', 'jute', 'coffee'],\n",
       "      dtype=object)"
      ]
     },
     "execution_count": 9,
     "metadata": {},
     "output_type": "execute_result"
    }
   ],
   "source": [
    "df.label.unique()"
   ]
  },
  {
   "cell_type": "code",
   "execution_count": 10,
   "id": "39cbab02",
   "metadata": {
    "execution": {
     "iopub.execute_input": "2023-08-16T06:09:01.950058Z",
     "iopub.status.busy": "2023-08-16T06:09:01.949725Z",
     "iopub.status.idle": "2023-08-16T06:09:01.957111Z",
     "shell.execute_reply": "2023-08-16T06:09:01.955440Z"
    },
    "papermill": {
     "duration": 0.021751,
     "end_time": "2023-08-16T06:09:01.959988",
     "exception": false,
     "start_time": "2023-08-16T06:09:01.938237",
     "status": "completed"
    },
    "tags": []
   },
   "outputs": [
    {
     "data": {
      "text/plain": [
       "N                int64\n",
       "P                int64\n",
       "K                int64\n",
       "temperature    float64\n",
       "humidity       float64\n",
       "ph             float64\n",
       "rainfall       float64\n",
       "label           object\n",
       "dtype: object"
      ]
     },
     "execution_count": 10,
     "metadata": {},
     "output_type": "execute_result"
    }
   ],
   "source": [
    "df.dtypes"
   ]
  },
  {
   "cell_type": "code",
   "execution_count": 11,
   "id": "0a50f69d",
   "metadata": {
    "execution": {
     "iopub.execute_input": "2023-08-16T06:09:01.982607Z",
     "iopub.status.busy": "2023-08-16T06:09:01.982194Z",
     "iopub.status.idle": "2023-08-16T06:09:02.448291Z",
     "shell.execute_reply": "2023-08-16T06:09:02.447219Z"
    },
    "papermill": {
     "duration": 0.479999,
     "end_time": "2023-08-16T06:09:02.450603",
     "exception": false,
     "start_time": "2023-08-16T06:09:01.970604",
     "status": "completed"
    },
    "tags": []
   },
   "outputs": [
    {
     "data": {
      "text/plain": [
       "<AxesSubplot:>"
      ]
     },
     "execution_count": 11,
     "metadata": {},
     "output_type": "execute_result"
    },
    {
     "data": {
      "image/png": "[encoded data removed]",
      "text/plain": [
       "<Figure size 1200x800 with 2 Axes>"
      ]
     },
     "metadata": {},
     "output_type": "display_data"
    }
   ],
   "source": [
    "plt.figure(figsize=(12,8))\n",
    "sns.heatmap(df.corr(),annot=True)"
   ]
  },
  {
   "cell_type": "markdown",
   "id": "5104340f",
   "metadata": {
    "papermill": {
     "duration": 0.011281,
     "end_time": "2023-08-16T06:09:02.473523",
     "exception": false,
     "start_time": "2023-08-16T06:09:02.462242",
     "status": "completed"
    },
    "tags": []
   },
   "source": [
    "#Seperating features and target label "
   ]
  },
  {
   "cell_type": "code",
   "execution_count": 12,
   "id": "b4f995f4",
   "metadata": {
    "execution": {
     "iopub.execute_input": "2023-08-16T06:09:02.498273Z",
     "iopub.status.busy": "2023-08-16T06:09:02.497045Z",
     "iopub.status.idle": "2023-08-16T06:09:02.503398Z",
     "shell.execute_reply": "2023-08-16T06:09:02.502551Z"
    },
    "papermill": {
     "duration": 0.02148,
     "end_time": "2023-08-16T06:09:02.506038",
     "exception": false,
     "start_time": "2023-08-16T06:09:02.484558",
     "status": "completed"
    },
    "tags": []
   },
   "outputs": [],
   "source": [
    "features = df[['N','P','K','temperature','humidity','ph','rainfall']]"
   ]
  },
  {
   "cell_type": "code",
   "execution_count": 13,
   "id": "648cdc09",
   "metadata": {
    "execution": {
     "iopub.execute_input": "2023-08-16T06:09:02.530811Z",
     "iopub.status.busy": "2023-08-16T06:09:02.530381Z",
     "iopub.status.idle": "2023-08-16T06:09:02.534939Z",
     "shell.execute_reply": "2023-08-16T06:09:02.533885Z"
    },
    "papermill": {
     "duration": 0.01968,
     "end_time": "2023-08-16T06:09:02.537078",
     "exception": false,
     "start_time": "2023-08-16T06:09:02.517398",
     "status": "completed"
    },
    "tags": []
   },
   "outputs": [],
   "source": [
    "target = df['label']\n",
    "labels = df['label']"
   ]
  },
  {
   "cell_type": "code",
   "execution_count": 14,
   "id": "0da806bd",
   "metadata": {
    "execution": {
     "iopub.execute_input": "2023-08-16T06:09:02.564201Z",
     "iopub.status.busy": "2023-08-16T06:09:02.563844Z",
     "iopub.status.idle": "2023-08-16T06:09:02.569143Z",
     "shell.execute_reply": "2023-08-16T06:09:02.567805Z"
    },
    "papermill": {
     "duration": 0.021674,
     "end_time": "2023-08-16T06:09:02.571927",
     "exception": false,
     "start_time": "2023-08-16T06:09:02.550253",
     "status": "completed"
    },
    "tags": []
   },
   "outputs": [],
   "source": [
    "acc=[]\n",
    "model = []"
   ]
  },
  {
   "cell_type": "markdown",
   "id": "09ba2f2a",
   "metadata": {
    "papermill": {
     "duration": 0.010903,
     "end_time": "2023-08-16T06:09:02.594146",
     "exception": false,
     "start_time": "2023-08-16T06:09:02.583243",
     "status": "completed"
    },
    "tags": []
   },
   "source": [
    "#Splitting into train and test data"
   ]
  },
  {
   "cell_type": "code",
   "execution_count": 15,
   "id": "8c769680",
   "metadata": {
    "execution": {
     "iopub.execute_input": "2023-08-16T06:09:02.619524Z",
     "iopub.status.busy": "2023-08-16T06:09:02.619083Z",
     "iopub.status.idle": "2023-08-16T06:09:02.900035Z",
     "shell.execute_reply": "2023-08-16T06:09:02.898709Z"
    },
    "papermill": {
     "duration": 0.297283,
     "end_time": "2023-08-16T06:09:02.902673",
     "exception": false,
     "start_time": "2023-08-16T06:09:02.605390",
     "status": "completed"
    },
    "tags": []
   },
   "outputs": [],
   "source": [
    "from sklearn.model_selection import train_test_split"
   ]
  },
  {
   "cell_type": "code",
   "execution_count": 16,
   "id": "a2077325",
   "metadata": {
    "execution": {
     "iopub.execute_input": "2023-08-16T06:09:02.927264Z",
     "iopub.status.busy": "2023-08-16T06:09:02.926925Z",
     "iopub.status.idle": "2023-08-16T06:09:02.936327Z",
     "shell.execute_reply": "2023-08-16T06:09:02.934389Z"
    },
    "papermill": {
     "duration": 0.024759,
     "end_time": "2023-08-16T06:09:02.938906",
     "exception": false,
     "start_time": "2023-08-16T06:09:02.914147",
     "status": "completed"
    },
    "tags": []
   },
   "outputs": [],
   "source": [
    "xtrain,xtest,ytrain,ytest = train_test_split(features,target,random_state=42,test_size=0.3)"
   ]
  },
  {
   "cell_type": "markdown",
   "id": "be672abb",
   "metadata": {
    "papermill": {
     "duration": 0.010992,
     "end_time": "2023-08-16T06:09:02.962163",
     "exception": false,
     "start_time": "2023-08-16T06:09:02.951171",
     "status": "completed"
    },
    "tags": []
   },
   "source": [
    "#Decision Tree"
   ]
  },
  {
   "cell_type": "code",
   "execution_count": 17,
   "id": "3abf5817",
   "metadata": {
    "execution": {
     "iopub.execute_input": "2023-08-16T06:09:02.986380Z",
     "iopub.status.busy": "2023-08-16T06:09:02.985963Z",
     "iopub.status.idle": "2023-08-16T06:09:03.289702Z",
     "shell.execute_reply": "2023-08-16T06:09:03.287140Z"
    },
    "papermill": {
     "duration": 0.318962,
     "end_time": "2023-08-16T06:09:03.292300",
     "exception": false,
     "start_time": "2023-08-16T06:09:02.973338",
     "status": "completed"
    },
    "tags": []
   },
   "outputs": [
    {
     "name": "stdout",
     "output_type": "stream",
     "text": [
      "DecisionTrees's Accuracy is:  86.81818181818181\n",
      "              precision    recall  f1-score   support\n",
      "\n",
      "       apple       1.00      1.00      1.00        34\n",
      "      banana       1.00      1.00      1.00        26\n",
      "   blackgram       0.57      1.00      0.72        26\n",
      "    chickpea       1.00      0.97      0.99        34\n",
      "     coconut       1.00      1.00      1.00        33\n",
      "      coffee       1.00      1.00      1.00        30\n",
      "      cotton       1.00      1.00      1.00        28\n",
      "      grapes       1.00      1.00      1.00        23\n",
      "        jute       0.71      0.94      0.81        34\n",
      " kidneybeans       0.00      0.00      0.00        36\n",
      "      lentil       0.50      1.00      0.67        22\n",
      "       maize       1.00      1.00      1.00        26\n",
      "       mango       1.00      1.00      1.00        32\n",
      "   mothbeans       0.00      0.00      0.00        34\n",
      "    mungbean       0.97      1.00      0.98        30\n",
      "   muskmelon       1.00      1.00      1.00        24\n",
      "      orange       1.00      1.00      1.00        25\n",
      "      papaya       0.97      0.92      0.94        37\n",
      "  pigeonpeas       0.57      1.00      0.73        37\n",
      " pomegranate       1.00      1.00      1.00        38\n",
      "        rice       0.89      0.61      0.72        28\n",
      "  watermelon       1.00      1.00      1.00        23\n",
      "\n",
      "    accuracy                           0.87       660\n",
      "   macro avg       0.83      0.88      0.84       660\n",
      "weighted avg       0.81      0.87      0.83       660\n",
      "\n"
     ]
    },
    {
     "name": "stderr",
     "output_type": "stream",
     "text": [
      "/opt/conda/lib/python3.7/site-packages/sklearn/metrics/_classification.py:1318: UndefinedMetricWarning: Precision and F-score are ill-defined and being set to 0.0 in labels with no predicted samples. Use `zero_division` parameter to control this behavior.\n",
      "  _warn_prf(average, modifier, msg_start, len(result))\n",
      "/opt/conda/lib/python3.7/site-packages/sklearn/metrics/_classification.py:1318: UndefinedMetricWarning: Precision and F-score are ill-defined and being set to 0.0 in labels with no predicted samples. Use `zero_division` parameter to control this behavior.\n",
      "  _warn_prf(average, modifier, msg_start, len(result))\n",
      "/opt/conda/lib/python3.7/site-packages/sklearn/metrics/_classification.py:1318: UndefinedMetricWarning: Precision and F-score are ill-defined and being set to 0.0 in labels with no predicted samples. Use `zero_division` parameter to control this behavior.\n",
      "  _warn_prf(average, modifier, msg_start, len(result))\n"
     ]
    }
   ],
   "source": [
    "from sklearn.tree import DecisionTreeClassifier\n",
    "from sklearn import metrics\n",
    "from sklearn.metrics import classification_report\n",
    "dt = DecisionTreeClassifier(criterion=\"entropy\",random_state=42,max_depth=5)\n",
    "dt.fit(xtrain,ytrain)\n",
    "predicted_values = dt.predict(xtest)\n",
    "x = metrics.accuracy_score(ytest, predicted_values)\n",
    "acc.append(x)\n",
    "model.append('Decision Tree')\n",
    "print(\"DecisionTrees's Accuracy is: \", x*100)\n",
    "\n",
    "print(classification_report(ytest,predicted_values))"
   ]
  },
  {
   "cell_type": "code",
   "execution_count": 18,
   "id": "2470ae37",
   "metadata": {
    "execution": {
     "iopub.execute_input": "2023-08-16T06:09:03.318155Z",
     "iopub.status.busy": "2023-08-16T06:09:03.317786Z",
     "iopub.status.idle": "2023-08-16T06:09:03.323423Z",
     "shell.execute_reply": "2023-08-16T06:09:03.322175Z"
    },
    "papermill": {
     "duration": 0.021364,
     "end_time": "2023-08-16T06:09:03.325591",
     "exception": false,
     "start_time": "2023-08-16T06:09:03.304227",
     "status": "completed"
    },
    "tags": []
   },
   "outputs": [],
   "source": [
    "from sklearn.model_selection import cross_val_score"
   ]
  },
  {
   "cell_type": "code",
   "execution_count": 19,
   "id": "8101c1eb",
   "metadata": {
    "execution": {
     "iopub.execute_input": "2023-08-16T06:09:03.350383Z",
     "iopub.status.busy": "2023-08-16T06:09:03.349592Z",
     "iopub.status.idle": "2023-08-16T06:09:03.442589Z",
     "shell.execute_reply": "2023-08-16T06:09:03.441029Z"
    },
    "papermill": {
     "duration": 0.107794,
     "end_time": "2023-08-16T06:09:03.444902",
     "exception": false,
     "start_time": "2023-08-16T06:09:03.337108",
     "status": "completed"
    },
    "tags": []
   },
   "outputs": [
    {
     "data": {
      "text/plain": [
       "array([0.93636364, 0.91136364, 0.92045455, 0.87272727, 0.93636364])"
      ]
     },
     "execution_count": 19,
     "metadata": {},
     "output_type": "execute_result"
    }
   ],
   "source": [
    "score = cross_val_score(dt, features, target,cv=5)\n",
    "score"
   ]
  },
  {
   "cell_type": "markdown",
   "id": "95497752",
   "metadata": {
    "papermill": {
     "duration": 0.011335,
     "end_time": "2023-08-16T06:09:03.467854",
     "exception": false,
     "start_time": "2023-08-16T06:09:03.456519",
     "status": "completed"
    },
    "tags": []
   },
   "source": [
    "#Saving trained Decision Tree model"
   ]
  },
  {
   "cell_type": "code",
   "execution_count": 20,
   "id": "342f5027",
   "metadata": {
    "execution": {
     "iopub.execute_input": "2023-08-16T06:09:03.493609Z",
     "iopub.status.busy": "2023-08-16T06:09:03.492761Z",
     "iopub.status.idle": "2023-08-16T06:09:03.498093Z",
     "shell.execute_reply": "2023-08-16T06:09:03.497282Z"
    },
    "papermill": {
     "duration": 0.020464,
     "end_time": "2023-08-16T06:09:03.499869",
     "exception": false,
     "start_time": "2023-08-16T06:09:03.479405",
     "status": "completed"
    },
    "tags": []
   },
   "outputs": [],
   "source": [
    "import pickle as pk\n",
    "pk.dump(dt,open('Deceision Tree','wb'))"
   ]
  },
  {
   "cell_type": "markdown",
   "id": "af10426d",
   "metadata": {
    "papermill": {
     "duration": 0.011273,
     "end_time": "2023-08-16T06:09:03.522773",
     "exception": false,
     "start_time": "2023-08-16T06:09:03.511500",
     "status": "completed"
    },
    "tags": []
   },
   "source": [
    "#Guassian Naive Bayes"
   ]
  },
  {
   "cell_type": "code",
   "execution_count": 21,
   "id": "e67e7960",
   "metadata": {
    "execution": {
     "iopub.execute_input": "2023-08-16T06:09:03.547956Z",
     "iopub.status.busy": "2023-08-16T06:09:03.547316Z",
     "iopub.status.idle": "2023-08-16T06:09:03.582645Z",
     "shell.execute_reply": "2023-08-16T06:09:03.580571Z"
    },
    "papermill": {
     "duration": 0.050977,
     "end_time": "2023-08-16T06:09:03.585310",
     "exception": false,
     "start_time": "2023-08-16T06:09:03.534333",
     "status": "completed"
    },
    "tags": []
   },
   "outputs": [
    {
     "name": "stdout",
     "output_type": "stream",
     "text": [
      "Naive Bayes's Accuracy is:  0.9939393939393939\n",
      "              precision    recall  f1-score   support\n",
      "\n",
      "       apple       1.00      1.00      1.00        34\n",
      "      banana       1.00      1.00      1.00        26\n",
      "   blackgram       1.00      1.00      1.00        26\n",
      "    chickpea       1.00      1.00      1.00        34\n",
      "     coconut       1.00      1.00      1.00        33\n",
      "      coffee       1.00      1.00      1.00        30\n",
      "      cotton       1.00      1.00      1.00        28\n",
      "      grapes       1.00      1.00      1.00        23\n",
      "        jute       0.89      1.00      0.94        34\n",
      " kidneybeans       1.00      1.00      1.00        36\n",
      "      lentil       1.00      1.00      1.00        22\n",
      "       maize       1.00      1.00      1.00        26\n",
      "       mango       1.00      1.00      1.00        32\n",
      "   mothbeans       1.00      1.00      1.00        34\n",
      "    mungbean       1.00      1.00      1.00        30\n",
      "   muskmelon       1.00      1.00      1.00        24\n",
      "      orange       1.00      1.00      1.00        25\n",
      "      papaya       1.00      1.00      1.00        37\n",
      "  pigeonpeas       1.00      1.00      1.00        37\n",
      " pomegranate       1.00      1.00      1.00        38\n",
      "        rice       1.00      0.86      0.92        28\n",
      "  watermelon       1.00      1.00      1.00        23\n",
      "\n",
      "    accuracy                           0.99       660\n",
      "   macro avg       1.00      0.99      0.99       660\n",
      "weighted avg       0.99      0.99      0.99       660\n",
      "\n"
     ]
    }
   ],
   "source": [
    "from sklearn.naive_bayes import GaussianNB \n",
    "gnb = GaussianNB()\n",
    "\n",
    "gnb.fit(xtrain,ytrain)\n",
    "\n",
    "predicted_values = gnb.predict(xtest)\n",
    "x = metrics.accuracy_score(ytest, predicted_values)\n",
    "acc.append(x)\n",
    "model.append('Naive Bayes')\n",
    "print(\"Naive Bayes's Accuracy is: \", x)\n",
    "\n",
    "print(classification_report(ytest,predicted_values))"
   ]
  },
  {
   "cell_type": "code",
   "execution_count": 22,
   "id": "8367070c",
   "metadata": {
    "execution": {
     "iopub.execute_input": "2023-08-16T06:09:03.610262Z",
     "iopub.status.busy": "2023-08-16T06:09:03.609846Z",
     "iopub.status.idle": "2023-08-16T06:09:03.661647Z",
     "shell.execute_reply": "2023-08-16T06:09:03.660576Z"
    },
    "papermill": {
     "duration": 0.066967,
     "end_time": "2023-08-16T06:09:03.663852",
     "exception": false,
     "start_time": "2023-08-16T06:09:03.596885",
     "status": "completed"
    },
    "tags": []
   },
   "outputs": [
    {
     "data": {
      "text/plain": [
       "array([0.99772727, 0.99545455, 0.99545455, 0.99545455, 0.99090909])"
      ]
     },
     "execution_count": 22,
     "metadata": {},
     "output_type": "execute_result"
    }
   ],
   "source": [
    "score = cross_val_score(gnb,features,target,cv=5)\n",
    "score"
   ]
  },
  {
   "cell_type": "code",
   "execution_count": 23,
   "id": "6491ca16",
   "metadata": {
    "execution": {
     "iopub.execute_input": "2023-08-16T06:09:03.689229Z",
     "iopub.status.busy": "2023-08-16T06:09:03.688520Z",
     "iopub.status.idle": "2023-08-16T06:09:03.693239Z",
     "shell.execute_reply": "2023-08-16T06:09:03.692509Z"
    },
    "papermill": {
     "duration": 0.019788,
     "end_time": "2023-08-16T06:09:03.695155",
     "exception": false,
     "start_time": "2023-08-16T06:09:03.675367",
     "status": "completed"
    },
    "tags": []
   },
   "outputs": [],
   "source": [
    "pk.dump(gnb,open('Guassian Naive Bayes','wb'))"
   ]
  },
  {
   "cell_type": "markdown",
   "id": "ac842349",
   "metadata": {
    "papermill": {
     "duration": 0.011286,
     "end_time": "2023-08-16T06:09:03.718163",
     "exception": false,
     "start_time": "2023-08-16T06:09:03.706877",
     "status": "completed"
    },
    "tags": []
   },
   "source": [
    "#Support Vector Machine (SVM)"
   ]
  },
  {
   "cell_type": "code",
   "execution_count": 24,
   "id": "8af310cb",
   "metadata": {
    "execution": {
     "iopub.execute_input": "2023-08-16T06:09:03.743591Z",
     "iopub.status.busy": "2023-08-16T06:09:03.743244Z",
     "iopub.status.idle": "2023-08-16T06:09:03.797319Z",
     "shell.execute_reply": "2023-08-16T06:09:03.795584Z"
    },
    "papermill": {
     "duration": 0.06955,
     "end_time": "2023-08-16T06:09:03.799581",
     "exception": false,
     "start_time": "2023-08-16T06:09:03.730031",
     "status": "completed"
    },
    "tags": []
   },
   "outputs": [
    {
     "name": "stdout",
     "output_type": "stream",
     "text": [
      "SVM's Accuracy is:  0.9681818181818181\n",
      "              precision    recall  f1-score   support\n",
      "\n",
      "       apple       1.00      1.00      1.00        34\n",
      "      banana       1.00      1.00      1.00        26\n",
      "   blackgram       0.93      1.00      0.96        26\n",
      "    chickpea       1.00      1.00      1.00        34\n",
      "     coconut       1.00      1.00      1.00        33\n",
      "      coffee       1.00      0.93      0.97        30\n",
      "      cotton       0.97      1.00      0.98        28\n",
      "      grapes       1.00      1.00      1.00        23\n",
      "        jute       0.73      0.97      0.84        34\n",
      " kidneybeans       0.97      1.00      0.99        36\n",
      "      lentil       0.91      0.95      0.93        22\n",
      "       maize       1.00      0.96      0.98        26\n",
      "       mango       0.97      1.00      0.98        32\n",
      "   mothbeans       0.97      0.94      0.96        34\n",
      "    mungbean       1.00      1.00      1.00        30\n",
      "   muskmelon       1.00      1.00      1.00        24\n",
      "      orange       1.00      1.00      1.00        25\n",
      "      papaya       0.97      1.00      0.99        37\n",
      "  pigeonpeas       1.00      0.89      0.94        37\n",
      " pomegranate       1.00      1.00      1.00        38\n",
      "        rice       1.00      0.64      0.78        28\n",
      "  watermelon       1.00      1.00      1.00        23\n",
      "\n",
      "    accuracy                           0.97       660\n",
      "   macro avg       0.97      0.97      0.97       660\n",
      "weighted avg       0.97      0.97      0.97       660\n",
      "\n"
     ]
    }
   ],
   "source": [
    "from sklearn.svm import SVC\n",
    "# data normalization with sklearn\n",
    "from sklearn.preprocessing import MinMaxScaler\n",
    "# fit scaler on training data\n",
    "norm = MinMaxScaler().fit(xtrain)\n",
    "x_train_norm = norm.transform(xtrain)\n",
    "# transform testing dataabs\n",
    "x_test_norm = norm.transform(xtest)\n",
    "SVM = SVC(kernel='poly', degree=3, C=1)\n",
    "SVM.fit(x_train_norm,ytrain)\n",
    "predicted_values = SVM.predict(x_test_norm)\n",
    "x = metrics.accuracy_score(ytest, predicted_values)\n",
    "acc.append(x)\n",
    "model.append('SVM')\n",
    "print(\"SVM's Accuracy is: \", x)\n",
    "\n",
    "print(classification_report(ytest,predicted_values))"
   ]
  },
  {
   "cell_type": "code",
   "execution_count": 25,
   "id": "62d55099",
   "metadata": {
    "execution": {
     "iopub.execute_input": "2023-08-16T06:09:03.824864Z",
     "iopub.status.busy": "2023-08-16T06:09:03.824496Z",
     "iopub.status.idle": "2023-08-16T06:09:03.993785Z",
     "shell.execute_reply": "2023-08-16T06:09:03.992443Z"
    },
    "papermill": {
     "duration": 0.185431,
     "end_time": "2023-08-16T06:09:03.996767",
     "exception": false,
     "start_time": "2023-08-16T06:09:03.811336",
     "status": "completed"
    },
    "tags": []
   },
   "outputs": [
    {
     "data": {
      "text/plain": [
       "array([0.97954545, 0.975     , 0.98863636, 0.98863636, 0.98181818])"
      ]
     },
     "execution_count": 25,
     "metadata": {},
     "output_type": "execute_result"
    }
   ],
   "source": [
    "score = cross_val_score(SVM,features,target,cv=5)\n",
    "score"
   ]
  },
  {
   "cell_type": "code",
   "execution_count": 26,
   "id": "a9507a43",
   "metadata": {
    "execution": {
     "iopub.execute_input": "2023-08-16T06:09:04.022415Z",
     "iopub.status.busy": "2023-08-16T06:09:04.021987Z",
     "iopub.status.idle": "2023-08-16T06:09:04.028793Z",
     "shell.execute_reply": "2023-08-16T06:09:04.027315Z"
    },
    "papermill": {
     "duration": 0.022926,
     "end_time": "2023-08-16T06:09:04.031766",
     "exception": false,
     "start_time": "2023-08-16T06:09:04.008840",
     "status": "completed"
    },
    "tags": []
   },
   "outputs": [],
   "source": [
    "pk.dump(SVM,open('SVM','wb'))"
   ]
  },
  {
   "cell_type": "markdown",
   "id": "29e6e8d9",
   "metadata": {
    "papermill": {
     "duration": 0.012236,
     "end_time": "2023-08-16T06:09:04.056277",
     "exception": false,
     "start_time": "2023-08-16T06:09:04.044041",
     "status": "completed"
    },
    "tags": []
   },
   "source": [
    "#Logistic Regression"
   ]
  },
  {
   "cell_type": "code",
   "execution_count": 27,
   "id": "7ce5808b",
   "metadata": {
    "execution": {
     "iopub.execute_input": "2023-08-16T06:09:04.082430Z",
     "iopub.status.busy": "2023-08-16T06:09:04.082020Z",
     "iopub.status.idle": "2023-08-16T06:09:04.246816Z",
     "shell.execute_reply": "2023-08-16T06:09:04.245420Z"
    },
    "papermill": {
     "duration": 0.180416,
     "end_time": "2023-08-16T06:09:04.249207",
     "exception": false,
     "start_time": "2023-08-16T06:09:04.068791",
     "status": "completed"
    },
    "tags": []
   },
   "outputs": [
    {
     "name": "stdout",
     "output_type": "stream",
     "text": [
      "Logistic Regression's Accuracy is:  0.9484848484848485\n",
      "              precision    recall  f1-score   support\n",
      "\n",
      "       apple       1.00      1.00      1.00        34\n",
      "      banana       0.96      1.00      0.98        26\n",
      "   blackgram       0.76      0.85      0.80        26\n",
      "    chickpea       1.00      1.00      1.00        34\n",
      "     coconut       1.00      1.00      1.00        33\n",
      "      coffee       0.97      1.00      0.98        30\n",
      "      cotton       0.87      0.96      0.92        28\n",
      "      grapes       1.00      1.00      1.00        23\n",
      "        jute       0.83      0.88      0.86        34\n",
      " kidneybeans       1.00      0.97      0.99        36\n",
      "      lentil       0.91      0.91      0.91        22\n",
      "       maize       0.95      0.77      0.85        26\n",
      "       mango       0.97      1.00      0.98        32\n",
      "   mothbeans       0.90      0.82      0.86        34\n",
      "    mungbean       0.94      1.00      0.97        30\n",
      "   muskmelon       1.00      1.00      1.00        24\n",
      "      orange       1.00      1.00      1.00        25\n",
      "      papaya       0.94      0.92      0.93        37\n",
      "  pigeonpeas       0.95      0.95      0.95        37\n",
      " pomegranate       1.00      1.00      1.00        38\n",
      "        rice       0.92      0.82      0.87        28\n",
      "  watermelon       1.00      1.00      1.00        23\n",
      "\n",
      "    accuracy                           0.95       660\n",
      "   macro avg       0.95      0.95      0.95       660\n",
      "weighted avg       0.95      0.95      0.95       660\n",
      "\n"
     ]
    },
    {
     "name": "stderr",
     "output_type": "stream",
     "text": [
      "/opt/conda/lib/python3.7/site-packages/sklearn/linear_model/_logistic.py:818: ConvergenceWarning: lbfgs failed to converge (status=1):\n",
      "STOP: TOTAL NO. of ITERATIONS REACHED LIMIT.\n",
      "\n",
      "Increase the number of iterations (max_iter) or scale the data as shown in:\n",
      "    https://scikit-learn.org/stable/modules/preprocessing.html\n",
      "Please also refer to the documentation for alternative solver options:\n",
      "    https://scikit-learn.org/stable/modules/linear_model.html#logistic-regression\n",
      "  extra_warning_msg=_LOGISTIC_SOLVER_CONVERGENCE_MSG,\n"
     ]
    }
   ],
   "source": [
    "from sklearn.linear_model import LogisticRegression\n",
    "\n",
    "LogReg = LogisticRegression(random_state=2)\n",
    "\n",
    "LogReg.fit(xtrain,ytrain)\n",
    "\n",
    "predicted_values = LogReg.predict(xtest)\n",
    "\n",
    "x = metrics.accuracy_score(ytest, predicted_values)\n",
    "acc.append(x)\n",
    "model.append('Logistic Regression')\n",
    "print(\"Logistic Regression's Accuracy is: \", x)\n",
    "\n",
    "print(classification_report(ytest,predicted_values))"
   ]
  },
  {
   "cell_type": "code",
   "execution_count": 28,
   "id": "ba28f33e",
   "metadata": {
    "execution": {
     "iopub.execute_input": "2023-08-16T06:09:04.274843Z",
     "iopub.status.busy": "2023-08-16T06:09:04.274474Z",
     "iopub.status.idle": "2023-08-16T06:09:04.280278Z",
     "shell.execute_reply": "2023-08-16T06:09:04.279153Z"
    },
    "papermill": {
     "duration": 0.021428,
     "end_time": "2023-08-16T06:09:04.282629",
     "exception": false,
     "start_time": "2023-08-16T06:09:04.261201",
     "status": "completed"
    },
    "tags": []
   },
   "outputs": [],
   "source": [
    "pk.dump(LogReg,open('LogisticRegression','wb'))"
   ]
  },
  {
   "cell_type": "markdown",
   "id": "049b28a1",
   "metadata": {
    "papermill": {
     "duration": 0.012332,
     "end_time": "2023-08-16T06:09:04.307637",
     "exception": false,
     "start_time": "2023-08-16T06:09:04.295305",
     "status": "completed"
    },
    "tags": []
   },
   "source": [
    "#Random Forest"
   ]
  },
  {
   "cell_type": "code",
   "execution_count": 29,
   "id": "3cbbfdcd",
   "metadata": {
    "execution": {
     "iopub.execute_input": "2023-08-16T06:09:04.334417Z",
     "iopub.status.busy": "2023-08-16T06:09:04.334046Z",
     "iopub.status.idle": "2023-08-16T06:09:04.525733Z",
     "shell.execute_reply": "2023-08-16T06:09:04.524659Z"
    },
    "papermill": {
     "duration": 0.208152,
     "end_time": "2023-08-16T06:09:04.528113",
     "exception": false,
     "start_time": "2023-08-16T06:09:04.319961",
     "status": "completed"
    },
    "tags": []
   },
   "outputs": [
    {
     "name": "stdout",
     "output_type": "stream",
     "text": [
      "RF's Accuracy is:  0.9924242424242424\n"
     ]
    }
   ],
   "source": [
    "from sklearn.ensemble import RandomForestClassifier\n",
    "\n",
    "RF = RandomForestClassifier(n_estimators=20, random_state=0)\n",
    "RF.fit(xtrain,ytrain)\n",
    "\n",
    "predicted_values = RF.predict(xtest)\n",
    "\n",
    "x = metrics.accuracy_score(ytest, predicted_values)\n",
    "acc.append(x)\n",
    "model.append('RF')\n",
    "print(\"RF's Accuracy is: \", x)"
   ]
  },
  {
   "cell_type": "markdown",
   "id": "9a1eb593",
   "metadata": {
    "papermill": {
     "duration": 0.013033,
     "end_time": "2023-08-16T06:09:04.554186",
     "exception": false,
     "start_time": "2023-08-16T06:09:04.541153",
     "status": "completed"
    },
    "tags": []
   },
   "source": [
    "#Accuracy Comparison"
   ]
  },
  {
   "cell_type": "code",
   "execution_count": 30,
   "id": "93da60bf",
   "metadata": {
    "execution": {
     "iopub.execute_input": "2023-08-16T06:09:04.579765Z",
     "iopub.status.busy": "2023-08-16T06:09:04.579336Z",
     "iopub.status.idle": "2023-08-16T06:09:04.778663Z",
     "shell.execute_reply": "2023-08-16T06:09:04.777513Z"
    },
    "papermill": {
     "duration": 0.214594,
     "end_time": "2023-08-16T06:09:04.780779",
     "exception": false,
     "start_time": "2023-08-16T06:09:04.566185",
     "status": "completed"
    },
    "tags": []
   },
   "outputs": [
    {
     "data": {
      "text/plain": [
       "<AxesSubplot:title={'center':'Accuracy Comparison'}, xlabel='Accuracy', ylabel='Algorithm'>"
      ]
     },
     "execution_count": 30,
     "metadata": {},
     "output_type": "execute_result"
    },
    {
     "data": {
      "image/png": "[encoded data removed]",
      "text/plain": [
       "<Figure size 1000x500 with 1 Axes>"
      ]
     },
     "metadata": {},
     "output_type": "display_data"
    }
   ],
   "source": [
    "plt.figure(figsize=[10,5])\n",
    "plt.title('Accuracy Comparison')\n",
    "plt.xlabel('Accuracy')\n",
    "plt.ylabel('Algorithm')\n",
    "sns.barplot(x = acc,y = model,palette='dark')"
   ]
  },
  {
   "cell_type": "code",
   "execution_count": 31,
   "id": "a3db25f8",
   "metadata": {
    "execution": {
     "iopub.execute_input": "2023-08-16T06:09:04.807542Z",
     "iopub.status.busy": "2023-08-16T06:09:04.807172Z",
     "iopub.status.idle": "2023-08-16T06:09:04.812574Z",
     "shell.execute_reply": "2023-08-16T06:09:04.811587Z"
    },
    "papermill": {
     "duration": 0.021232,
     "end_time": "2023-08-16T06:09:04.814635",
     "exception": false,
     "start_time": "2023-08-16T06:09:04.793403",
     "status": "completed"
    },
    "tags": []
   },
   "outputs": [
    {
     "name": "stdout",
     "output_type": "stream",
     "text": [
      "Decision Tree --> 0.8681818181818182\n",
      "Naive Bayes --> 0.9939393939393939\n",
      "SVM --> 0.9681818181818181\n",
      "Logistic Regression --> 0.9484848484848485\n",
      "RF --> 0.9924242424242424\n"
     ]
    }
   ],
   "source": [
    "accuracy_models = dict(zip(model, acc))\n",
    "for k, v in accuracy_models.items():\n",
    "    print (k, '-->', v)"
   ]
  },
  {
   "cell_type": "markdown",
   "id": "c345a4ec",
   "metadata": {
    "papermill": {
     "duration": 0.011978,
     "end_time": "2023-08-16T06:09:04.839097",
     "exception": false,
     "start_time": "2023-08-16T06:09:04.827119",
     "status": "completed"
    },
    "tags": []
   },
   "source": [
    "#Making a prediction"
   ]
  },
  {
   "cell_type": "code",
   "execution_count": 32,
   "id": "5e06ab7d",
   "metadata": {
    "execution": {
     "iopub.execute_input": "2023-08-16T06:09:04.865770Z",
     "iopub.status.busy": "2023-08-16T06:09:04.865360Z",
     "iopub.status.idle": "2023-08-16T06:09:04.877067Z",
     "shell.execute_reply": "2023-08-16T06:09:04.875830Z"
    },
    "papermill": {
     "duration": 0.027989,
     "end_time": "2023-08-16T06:09:04.879423",
     "exception": false,
     "start_time": "2023-08-16T06:09:04.851434",
     "status": "completed"
    },
    "tags": []
   },
   "outputs": [
    {
     "name": "stdout",
     "output_type": "stream",
     "text": [
      "['coffee']\n"
     ]
    },
    {
     "name": "stderr",
     "output_type": "stream",
     "text": [
      "/opt/conda/lib/python3.7/site-packages/sklearn/base.py:451: UserWarning: X does not have valid feature names, but RandomForestClassifier was fitted with feature names\n",
      "  \"X does not have valid feature names, but\"\n"
     ]
    }
   ],
   "source": [
    "data = np.array([[104,18, 30, 23.603016, 60.3, 6.7, 140.91]])\n",
    "prediction = RF.predict(data)\n",
    "print(prediction)"
   ]
  },
  {
   "cell_type": "code",
   "execution_count": 33,
   "id": "2e0952f6",
   "metadata": {
    "execution": {
     "iopub.execute_input": "2023-08-16T06:09:04.906476Z",
     "iopub.status.busy": "2023-08-16T06:09:04.906105Z",
     "iopub.status.idle": "2023-08-16T06:09:04.916720Z",
     "shell.execute_reply": "2023-08-16T06:09:04.915176Z"
    },
    "papermill": {
     "duration": 0.027332,
     "end_time": "2023-08-16T06:09:04.919395",
     "exception": false,
     "start_time": "2023-08-16T06:09:04.892063",
     "status": "completed"
    },
    "tags": []
   },
   "outputs": [
    {
     "name": "stdout",
     "output_type": "stream",
     "text": [
      "['jute']\n"
     ]
    },
    {
     "name": "stderr",
     "output_type": "stream",
     "text": [
      "/opt/conda/lib/python3.7/site-packages/sklearn/base.py:451: UserWarning: X does not have valid feature names, but RandomForestClassifier was fitted with feature names\n",
      "  \"X does not have valid feature names, but\"\n"
     ]
    }
   ],
   "source": [
    "data = np.array([[83, 45, 60, 28, 70.3, 7.0, 150.9]])\n",
    "prediction = RF.predict(data)\n",
    "print(prediction)"
   ]
  },
  {
   "cell_type": "markdown",
   "id": "6059dfb4",
   "metadata": {
    "papermill": {
     "duration": 0.012454,
     "end_time": "2023-08-16T06:09:04.944657",
     "exception": false,
     "start_time": "2023-08-16T06:09:04.932203",
     "status": "completed"
    },
    "tags": []
   },
   "source": [
    "#Gradio deployment"
   ]
  },
  {
   "cell_type": "code",
   "execution_count": 34,
   "id": "a409b8bc",
   "metadata": {
    "execution": {
     "iopub.execute_input": "2023-08-16T06:09:04.972429Z",
     "iopub.status.busy": "2023-08-16T06:09:04.972000Z",
     "iopub.status.idle": "2023-08-16T06:09:21.945291Z",
     "shell.execute_reply": "2023-08-16T06:09:21.943852Z"
    },
    "papermill": {
     "duration": 16.99102,
     "end_time": "2023-08-16T06:09:21.948498",
     "exception": false,
     "start_time": "2023-08-16T06:09:04.957478",
     "status": "completed"
    },
    "tags": []
   },
   "outputs": [
    {
     "name": "stdout",
     "output_type": "stream",
     "text": [
      "Collecting gradio\r\n",
      "  Downloading gradio-3.34.0-py3-none-any.whl (20.0 MB)\r\n",
      "\u001b[2K     \u001b[90m━━━━━━━━━━━━━━━━━━━━━━━━━━━━━━━━━━━━━━━━\u001b[0m \u001b[32m20.0/20.0 MB\u001b[0m \u001b[31m55.5 MB/s\u001b[0m eta \u001b[36m0:00:00\u001b[0m\r\n",
      "\u001b[?25hRequirement already satisfied: aiohttp in /opt/conda/lib/python3.7/site-packages (from gradio) (3.8.3)\r\n",
      "Collecting gradio-client>=0.2.6\r\n",
      "  Downloading gradio_client-0.2.6-py3-none-any.whl (288 kB)\r\n",
      "\u001b[2K     \u001b[90m━━━━━━━━━━━━━━━━━━━━━━━━━━━━━━━━━━━━━━\u001b[0m \u001b[32m288.3/288.3 kB\u001b[0m \u001b[31m20.4 MB/s\u001b[0m eta \u001b[36m0:00:00\u001b[0m\r\n",
      "\u001b[?25hRequirement already satisfied: markdown-it-py[linkify]>=2.0.0 in /opt/conda/lib/python3.7/site-packages (from gradio) (2.1.0)\r\n",
      "Requirement already satisfied: uvicorn>=0.14.0 in /opt/conda/lib/python3.7/site-packages (from gradio) (0.20.0)\r\n",
      "Requirement already satisfied: pydantic in /opt/conda/lib/python3.7/site-packages (from gradio) (1.10.4)\r\n",
      "Requirement already satisfied: orjson in /opt/conda/lib/python3.7/site-packages (from gradio) (3.8.5)\r\n",
      "Requirement already satisfied: numpy in /opt/conda/lib/python3.7/site-packages (from gradio) (1.21.6)\r\n",
      "Requirement already satisfied: websockets>=10.0 in /opt/conda/lib/python3.7/site-packages (from gradio) (11.0)\r\n",
      "Requirement already satisfied: jinja2 in /opt/conda/lib/python3.7/site-packages (from gradio) (3.1.2)\r\n",
      "Requirement already satisfied: fastapi in /opt/conda/lib/python3.7/site-packages (from gradio) (0.89.1)\r\n",
      "Requirement already satisfied: pydub in /opt/conda/lib/python3.7/site-packages (from gradio) (0.25.1)\r\n",
      "Requirement already satisfied: pandas in /opt/conda/lib/python3.7/site-packages (from gradio) (1.3.5)\r\n",
      "Requirement already satisfied: requests in /opt/conda/lib/python3.7/site-packages (from gradio) (2.28.2)\r\n",
      "Collecting python-multipart\r\n",
      "  Downloading python_multipart-0.0.6-py3-none-any.whl (45 kB)\r\n",
      "\u001b[2K     \u001b[90m━━━━━━━━━━━━━━━━━━━━━━━━━━━━━━━━━━━━━━━━\u001b[0m \u001b[32m45.7/45.7 kB\u001b[0m \u001b[31m3.1 MB/s\u001b[0m eta \u001b[36m0:00:00\u001b[0m\r\n",
      "\u001b[?25hRequirement already satisfied: pygments>=2.12.0 in /opt/conda/lib/python3.7/site-packages (from gradio) (2.14.0)\r\n",
      "Requirement already satisfied: markupsafe in /opt/conda/lib/python3.7/site-packages (from gradio) (2.1.1)\r\n",
      "Requirement already satisfied: pillow in /opt/conda/lib/python3.7/site-packages (from gradio) (9.4.0)\r\n",
      "Collecting aiofiles\r\n",
      "  Downloading aiofiles-23.2.1-py3-none-any.whl (15 kB)\r\n",
      "Collecting semantic-version\r\n",
      "  Downloading semantic_version-2.10.0-py2.py3-none-any.whl (15 kB)\r\n",
      "Requirement already satisfied: typing-extensions in /opt/conda/lib/python3.7/site-packages (from gradio) (4.4.0)\r\n",
      "Collecting huggingface-hub>=0.14.0\r\n",
      "  Downloading huggingface_hub-0.16.4-py3-none-any.whl (268 kB)\r\n",
      "\u001b[2K     \u001b[90m━━━━━━━━━━━━━━━━━━━━━━━━━━━━━━━━━━━━━━\u001b[0m \u001b[32m268.8/268.8 kB\u001b[0m \u001b[31m17.7 MB/s\u001b[0m eta \u001b[36m0:00:00\u001b[0m\r\n",
      "\u001b[?25hRequirement already satisfied: matplotlib in /opt/conda/lib/python3.7/site-packages (from gradio) (3.5.3)\r\n",
      "Requirement already satisfied: mdit-py-plugins<=0.3.3 in /opt/conda/lib/python3.7/site-packages (from gradio) (0.3.3)\r\n",
      "Collecting ffmpy\r\n",
      "  Downloading ffmpy-0.3.1.tar.gz (5.5 kB)\r\n",
      "  Preparing metadata (setup.py) ... \u001b[?25l-\b \bdone\r\n",
      "\u001b[?25hRequirement already satisfied: altair>=4.2.0 in /opt/conda/lib/python3.7/site-packages (from gradio) (4.2.2)\r\n",
      "Requirement already satisfied: pyyaml in /opt/conda/lib/python3.7/site-packages (from gradio) (6.0)\r\n",
      "Collecting httpx\r\n",
      "  Downloading httpx-0.24.1-py3-none-any.whl (75 kB)\r\n",
      "\u001b[2K     \u001b[90m━━━━━━━━━━━━━━━━━━━━━━━━━━━━━━━━━━━━━━━━\u001b[0m \u001b[32m75.4/75.4 kB\u001b[0m \u001b[31m4.8 MB/s\u001b[0m eta \u001b[36m0:00:00\u001b[0m\r\n",
      "\u001b[?25hRequirement already satisfied: toolz in /opt/conda/lib/python3.7/site-packages (from altair>=4.2.0->gradio) (0.11.2)\r\n",
      "Requirement already satisfied: jsonschema>=3.0 in /opt/conda/lib/python3.7/site-packages (from altair>=4.2.0->gradio) (4.17.3)\r\n",
      "Requirement already satisfied: entrypoints in /opt/conda/lib/python3.7/site-packages (from altair>=4.2.0->gradio) (0.4)\r\n",
      "Requirement already satisfied: packaging in /opt/conda/lib/python3.7/site-packages (from gradio-client>=0.2.6->gradio) (23.0)\r\n",
      "Requirement already satisfied: fsspec in /opt/conda/lib/python3.7/site-packages (from gradio-client>=0.2.6->gradio) (2023.1.0)\r\n",
      "Requirement already satisfied: tqdm>=4.42.1 in /opt/conda/lib/python3.7/site-packages (from huggingface-hub>=0.14.0->gradio) (4.64.1)\r\n",
      "Requirement already satisfied: importlib-metadata in /opt/conda/lib/python3.7/site-packages (from huggingface-hub>=0.14.0->gradio) (4.11.4)\r\n",
      "Requirement already satisfied: filelock in /opt/conda/lib/python3.7/site-packages (from huggingface-hub>=0.14.0->gradio) (3.9.0)\r\n",
      "Requirement already satisfied: mdurl~=0.1 in /opt/conda/lib/python3.7/site-packages (from markdown-it-py[linkify]>=2.0.0->gradio) (0.1.2)\r\n",
      "Collecting linkify-it-py~=1.0\r\n",
      "  Downloading linkify_it_py-1.0.3-py3-none-any.whl (19 kB)\r\n",
      "Requirement already satisfied: python-dateutil>=2.7.3 in /opt/conda/lib/python3.7/site-packages (from pandas->gradio) (2.8.2)\r\n",
      "Requirement already satisfied: pytz>=2017.3 in /opt/conda/lib/python3.7/site-packages (from pandas->gradio) (2022.7.1)\r\n",
      "Requirement already satisfied: click>=7.0 in /opt/conda/lib/python3.7/site-packages (from uvicorn>=0.14.0->gradio) (8.1.3)\r\n",
      "Requirement already satisfied: h11>=0.8 in /opt/conda/lib/python3.7/site-packages (from uvicorn>=0.14.0->gradio) (0.14.0)\r\n",
      "Requirement already satisfied: charset-normalizer<3.0,>=2.0 in /opt/conda/lib/python3.7/site-packages (from aiohttp->gradio) (2.1.1)\r\n",
      "Requirement already satisfied: attrs>=17.3.0 in /opt/conda/lib/python3.7/site-packages (from aiohttp->gradio) (22.2.0)\r\n",
      "Requirement already satisfied: multidict<7.0,>=4.5 in /opt/conda/lib/python3.7/site-packages (from aiohttp->gradio) (6.0.4)\r\n",
      "Requirement already satisfied: aiosignal>=1.1.2 in /opt/conda/lib/python3.7/site-packages (from aiohttp->gradio) (1.3.1)\r\n",
      "Requirement already satisfied: asynctest==0.13.0 in /opt/conda/lib/python3.7/site-packages (from aiohttp->gradio) (0.13.0)\r\n",
      "Requirement already satisfied: yarl<2.0,>=1.0 in /opt/conda/lib/python3.7/site-packages (from aiohttp->gradio) (1.8.2)\r\n",
      "Requirement already satisfied: async-timeout<5.0,>=4.0.0a3 in /opt/conda/lib/python3.7/site-packages (from aiohttp->gradio) (4.0.2)\r\n",
      "Requirement already satisfied: frozenlist>=1.1.1 in /opt/conda/lib/python3.7/site-packages (from aiohttp->gradio) (1.3.3)\r\n",
      "Requirement already satisfied: starlette==0.22.0 in /opt/conda/lib/python3.7/site-packages (from fastapi->gradio) (0.22.0)\r\n",
      "Requirement already satisfied: anyio<5,>=3.4.0 in /opt/conda/lib/python3.7/site-packages (from starlette==0.22.0->fastapi->gradio) (3.6.2)\r\n",
      "Requirement already satisfied: idna in /opt/conda/lib/python3.7/site-packages (from httpx->gradio) (3.4)\r\n",
      "Requirement already satisfied: sniffio in /opt/conda/lib/python3.7/site-packages (from httpx->gradio) (1.3.0)\r\n",
      "Collecting httpcore<0.18.0,>=0.15.0\r\n",
      "  Downloading httpcore-0.17.3-py3-none-any.whl (74 kB)\r\n",
      "\u001b[2K     \u001b[90m━━━━━━━━━━━━━━━━━━━━━━━━━━━━━━━━━━━━━━━━\u001b[0m \u001b[32m74.5/74.5 kB\u001b[0m \u001b[31m5.5 MB/s\u001b[0m eta \u001b[36m0:00:00\u001b[0m\r\n",
      "\u001b[?25hRequirement already satisfied: certifi in /opt/conda/lib/python3.7/site-packages (from httpx->gradio) (2022.12.7)\r\n",
      "Requirement already satisfied: pyparsing>=2.2.1 in /opt/conda/lib/python3.7/site-packages (from matplotlib->gradio) (3.0.9)\r\n",
      "Requirement already satisfied: kiwisolver>=1.0.1 in /opt/conda/lib/python3.7/site-packages (from matplotlib->gradio) (1.4.4)\r\n",
      "Requirement already satisfied: cycler>=0.10 in /opt/conda/lib/python3.7/site-packages (from matplotlib->gradio) (0.11.0)\r\n",
      "Requirement already satisfied: fonttools>=4.22.0 in /opt/conda/lib/python3.7/site-packages (from matplotlib->gradio) (4.38.0)\r\n",
      "Requirement already satisfied: urllib3<1.27,>=1.21.1 in /opt/conda/lib/python3.7/site-packages (from requests->gradio) (1.26.14)\r\n",
      "Requirement already satisfied: pkgutil-resolve-name>=1.3.10 in /opt/conda/lib/python3.7/site-packages (from jsonschema>=3.0->altair>=4.2.0->gradio) (1.3.10)\r\n",
      "Requirement already satisfied: importlib-resources>=1.4.0 in /opt/conda/lib/python3.7/site-packages (from jsonschema>=3.0->altair>=4.2.0->gradio) (5.10.2)\r\n",
      "Requirement already satisfied: pyrsistent!=0.17.0,!=0.17.1,!=0.17.2,>=0.14.0 in /opt/conda/lib/python3.7/site-packages (from jsonschema>=3.0->altair>=4.2.0->gradio) (0.19.3)\r\n",
      "Collecting uc-micro-py\r\n",
      "  Downloading uc_micro_py-1.0.2-py3-none-any.whl (6.2 kB)\r\n",
      "Requirement already satisfied: six>=1.5 in /opt/conda/lib/python3.7/site-packages (from python-dateutil>=2.7.3->pandas->gradio) (1.16.0)\r\n",
      "Requirement already satisfied: zipp>=0.5 in /opt/conda/lib/python3.7/site-packages (from importlib-metadata->huggingface-hub>=0.14.0->gradio) (3.11.0)\r\n",
      "Building wheels for collected packages: ffmpy\r\n",
      "  Building wheel for ffmpy (setup.py) ... \u001b[?25l-\b \b\\\b \bdone\r\n",
      "\u001b[?25h  Created wheel for ffmpy: filename=ffmpy-0.3.1-py3-none-any.whl size=5595 sha256=efa9e1cab7da0a5f2b423381bbea426589fa37e80bd8f107b0735c6cd4671f7a\r\n",
      "  Stored in directory: /root/.cache/pip/wheels/28/3e/17/376f8af8aa276c94d33b419f944b407f2ebbecac7b24bdcc06\r\n",
      "Successfully built ffmpy\r\n",
      "Installing collected packages: ffmpy, uc-micro-py, semantic-version, python-multipart, aiofiles, linkify-it-py, huggingface-hub, httpcore, httpx, gradio-client, gradio\r\n",
      "  Attempting uninstall: huggingface-hub\r\n",
      "    Found existing installation: huggingface-hub 0.13.3\r\n",
      "    Uninstalling huggingface-hub-0.13.3:\r\n",
      "      Successfully uninstalled huggingface-hub-0.13.3\r\n",
      "Successfully installed aiofiles-23.2.1 ffmpy-0.3.1 gradio-3.34.0 gradio-client-0.2.6 httpcore-0.17.3 httpx-0.24.1 huggingface-hub-0.16.4 linkify-it-py-1.0.3 python-multipart-0.0.6 semantic-version-2.10.0 uc-micro-py-1.0.2\r\n",
      "\u001b[33mWARNING: Running pip as the 'root' user can result in broken permissions and conflicting behaviour with the system package manager. It is recommended to use a virtual environment instead: https://pip.pypa.io/warnings/venv\u001b[0m\u001b[33m\r\n",
      "\u001b[0m"
     ]
    }
   ],
   "source": [
    "!pip install gradio\n",
    "import gradio as gr"
   ]
  },
  {
   "cell_type": "code",
   "execution_count": 35,
   "id": "6c4833df",
   "metadata": {
    "execution": {
     "iopub.execute_input": "2023-08-16T06:09:21.982132Z",
     "iopub.status.busy": "2023-08-16T06:09:21.981761Z",
     "iopub.status.idle": "2023-08-16T06:09:21.988098Z",
     "shell.execute_reply": "2023-08-16T06:09:21.986839Z"
    },
    "papermill": {
     "duration": 0.025324,
     "end_time": "2023-08-16T06:09:21.990146",
     "exception": false,
     "start_time": "2023-08-16T06:09:21.964822",
     "status": "completed"
    },
    "tags": []
   },
   "outputs": [],
   "source": [
    "def crop_recom(N,P,K,tem,hum,ph,rain):\n",
    "    crop = RF.predict([[N,P,K,tem,hum,ph,rain]])\n",
    "    return crop\n",
    "    "
   ]
  },
  {
   "cell_type": "code",
   "execution_count": 36,
   "id": "a65383a6",
   "metadata": {
    "execution": {
     "iopub.execute_input": "2023-08-16T06:09:22.022825Z",
     "iopub.status.busy": "2023-08-16T06:09:22.022434Z",
     "iopub.status.idle": "2023-08-16T06:09:22.034266Z",
     "shell.execute_reply": "2023-08-16T06:09:22.032937Z"
    },
    "papermill": {
     "duration": 0.030779,
     "end_time": "2023-08-16T06:09:22.036405",
     "exception": false,
     "start_time": "2023-08-16T06:09:22.005626",
     "status": "completed"
    },
    "tags": []
   },
   "outputs": [
    {
     "name": "stderr",
     "output_type": "stream",
     "text": [
      "/opt/conda/lib/python3.7/site-packages/sklearn/base.py:451: UserWarning: X does not have valid feature names, but RandomForestClassifier was fitted with feature names\n",
      "  \"X does not have valid feature names, but\"\n"
     ]
    },
    {
     "data": {
      "text/plain": [
       "array(['jute'], dtype=object)"
      ]
     },
     "execution_count": 36,
     "metadata": {},
     "output_type": "execute_result"
    }
   ],
   "source": [
    "crop_recom(83, 45, 60, 28, 70.3, 7.0, 150.9)"
   ]
  },
  {
   "cell_type": "code",
   "execution_count": 37,
   "id": "a4459eea",
   "metadata": {
    "execution": {
     "iopub.execute_input": "2023-08-16T06:09:22.069792Z",
     "iopub.status.busy": "2023-08-16T06:09:22.069370Z",
     "iopub.status.idle": "2023-08-16T06:09:25.451653Z",
     "shell.execute_reply": "2023-08-16T06:09:25.450337Z"
    },
    "papermill": {
     "duration": 3.401497,
     "end_time": "2023-08-16T06:09:25.453668",
     "exception": false,
     "start_time": "2023-08-16T06:09:22.052171",
     "status": "completed"
    },
    "tags": []
   },
   "outputs": [
    {
     "name": "stdout",
     "output_type": "stream",
     "text": [
      "Running on local URL:  http://127.0.0.1:7860\n",
      "\n",
      "To create a public link, set `share=True` in `launch()`.\n"
     ]
    },
    {
     "data": {
      "text/html": [
       "<div><iframe src=\"http://127.0.0.1:7860/\" width=\"100%\" height=\"500\" allow=\"autoplay; camera; microphone; clipboard-read; clipboard-write;\" frameborder=\"0\" allowfullscreen></iframe></div>"
      ],
      "text/plain": [
       "<IPython.core.display.HTML object>"
      ]
     },
     "metadata": {},
     "output_type": "display_data"
    }
   ],
   "source": [
    "interface = gr.Interface(\n",
    "  fn =crop_recom, #function\n",
    "  inputs = ['number','number','number','number','number','number','number'],\n",
    "  outputs = ['text']  \n",
    "\n",
    "\n",
    ").launch(share=False)"
   ]
  },
  {
   "cell_type": "code",
   "execution_count": null,
   "id": "536ea9c5",
   "metadata": {
    "papermill": {
     "duration": 0.015788,
     "end_time": "2023-08-16T06:09:25.485748",
     "exception": false,
     "start_time": "2023-08-16T06:09:25.469960",
     "status": "completed"
    },
    "tags": []
   },
   "outputs": [],
   "source": []
  }
 ],
 "metadata": {
  "kernelspec": {
   "display_name": "Python 3",
   "language": "python",
   "name": "python3"
  },
  "language_info": {
   "codemirror_mode": {
    "name": "ipython",
    "version": 3
   },
   "file_extension": ".py",
   "mimetype": "text/x-python",
   "name": "python",
   "nbconvert_exporter": "python",
   "pygments_lexer": "ipython3",
   "version": "3.7.12"
  },
  "papermill": {
   "default_parameters": {},
   "duration": 37.876734,
   "end_time": "2023-08-16T06:09:27.226961",
   "environment_variables": {},
   "exception": null,
   "input_path": "__notebook__.ipynb",
   "output_path": "__notebook__.ipynb",
   "parameters": {},
   "start_time": "2023-08-16T06:08:49.350227",
   "version": "2.4.0"
  }
 },
 "nbformat": 4,
 "nbformat_minor": 5
}
